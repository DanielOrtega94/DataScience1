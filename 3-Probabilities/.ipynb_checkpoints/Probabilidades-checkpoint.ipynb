{
 "cells": [
  {
   "cell_type": "code",
   "execution_count": 147,
   "metadata": {},
   "outputs": [],
   "source": [
    "import pandas as pd\n",
    "import numpy as np\n",
    "import matplotlib.pyplot as plt\n",
    "import seaborn as sns\n",
    "\n",
    "\n",
    "import warnings\n",
    "warnings.filterwarnings('ignore')"
   ]
  },
  {
   "cell_type": "markdown",
   "metadata": {},
   "source": [
    "# Probabilidades Discretas\n"
   ]
  },
  {
   "cell_type": "markdown",
   "metadata": {},
   "source": [
    "## Monty Hall"
   ]
  },
  {
   "cell_type": "markdown",
   "metadata": {},
   "source": [
    "Suponga que está en un programa de juegos y puede elegir entre tres puertas. Detrás de una puerta hay un coche, detrás de las otras, cabras. Escoge una puerta, digamos #1, y el anfitrión, que sabe lo que hay detrás de las puertas, abre otra puerta, digamos #3, que tiene una cabra. Él les dice: \"¿Quieren escoger la puerta número 2?\" ¿Es ventajoso para usted cambiar su elección de puertas?"
   ]
  },
  {
   "cell_type": "markdown",
   "metadata": {},
   "source": [
    "<img src=\"./images/montyhallproblem.png\" width=\"500\" height=\"1024\" align=\"center\"/>"
   ]
  },
  {
   "cell_type": "markdown",
   "metadata": {},
   "source": [
    "# Análisis Visual"
   ]
  },
  {
   "cell_type": "markdown",
   "metadata": {},
   "source": [
    "<img src=\"./images/base.png\" width=\"500\" height=\"1024\" align=\"center\"/>"
   ]
  },
  {
   "cell_type": "markdown",
   "metadata": {},
   "source": [
    "# Caso 1: El presentador no abre ninguna prueba"
   ]
  },
  {
   "cell_type": "markdown",
   "metadata": {},
   "source": [
    "<img src=\"./images/caso1.png\" width=\"500\" height=\"1024\" align=\"center\"/>"
   ]
  },
  {
   "cell_type": "markdown",
   "metadata": {},
   "source": [
    "# Caso 2: El presentador abre una prueba, mostrando una cabra\n",
    "\n",
    "Como el presentador abre una puerta, quita una posibilidad."
   ]
  },
  {
   "cell_type": "markdown",
   "metadata": {},
   "source": [
    "<img src=\"./images/caso2.png\" width=\"500\" height=\"1024\" align=\"center\"/>"
   ]
  },
  {
   "cell_type": "markdown",
   "metadata": {},
   "source": [
    "# Análisis con Teorema de Bayes"
   ]
  },
  {
   "cell_type": "markdown",
   "metadata": {},
   "source": [
    "Supongamos que participamos en el juego y escogemos la puerta N°1, el presentador del programa nos muestra la puerta N°2\n",
    "Definamos 2 eventos \n",
    "+ Evento A: El auto esta en la puerta 1\n",
    "+ Evento B: El presentador abre puerta 2 y muestra una cabra\n",
    "\n",
    "No interesa conocer la probabilidad de que el auto este en la puerta 1, dado que el presentador abrio la puerta 2."
   ]
  },
  {
   "cell_type": "markdown",
   "metadata": {},
   "source": [
    "<img src=\"./images/bayes.png\" width=\"500\" height=\"1024\" align=\"center\"/>"
   ]
  },
  {
   "cell_type": "markdown",
   "metadata": {},
   "source": [
    "Supongamos que como escogi la puerta 1, el presentador abre la puerta 2.\n",
    "\n",
    "+ P(A): Probabilidad de que el auto este en la puerta 1.\n",
    "+ P(B|A): Como escogi la puerta 1, el presentador puede escoger entre la puerta 2 y 3. Pero debe escoger la puerta 2, debido a nuestra suposición\n",
    "+ P(B): Es la probabilidad de que el presentador muestre escoja la puerta 2:\n",
    "    + Auto en puerta 1. El presentador puede escoger entre la puerta 2 y 3. (50 % de escoger puerta 2)\n",
    "    + Auto en puerta 2. El presentador siempre escoge la puerta 3. (0 % de escoger puerta 2)\n",
    "    + Auto en puerta 3. El presentador siempre escoge la la puerta 2. (100 % de escoger puerta 2)\n",
    "    \n",
    "    \n",
    "Si el presentador abre la puerta 2, se que el auto esta en la puerta 1 o 3.\n",
    "Que el auto este en la puerta 1 tiene una probabilidad de 1/3.\n",
    "Que el auto este en la puerta 3 tiene una probabilidad de 1-1/3 =2/3\n",
    "Por eso nos conviene cambiar."
   ]
  },
  {
   "cell_type": "code",
   "execution_count": 4,
   "metadata": {},
   "outputs": [],
   "source": [
    "def monty_hall():\n",
    "    [[puerta_seleccionada, puerta_ganadora]] = np.random.random_integers(low=1,high=3,size=(1,2))\n",
    "    puertas = [1,2,3]\n",
    "    if puerta_seleccionada == puerta_ganadora:\n",
    "        # Cuando la selección inicial del concursante es la puerta ganadora, Monty elige entre  \n",
    "        # las dos puertas restantes al azar. Las dos puertas restantes contienen cabras.\n",
    "        puertas.remove(puerta_seleccionada)\n",
    "        puerta_abrir = np.random.choice(puertas)\n",
    "        # La puerta por la que cambiar el concursante contiene una cabra.\n",
    "        cambio_puerta = puertas.remove(puerta_abrir)\n",
    "    else:\n",
    "        # Cuando la selección inicial del concursante no contiene un coche, sus iniciales \n",
    "        # la selección contiene una cabra. Monty entonces abre la otra puerta que contiene una cabra, \n",
    "        # dejando el coche detrás de la puerta que cambia.\n",
    "        puertas.remove(puerta_seleccionada)\n",
    "        puertas.remove(puerta_ganadora)\n",
    "        puerta_abrir = puertas\n",
    "        cambio_puerta = puerta_ganadora\n",
    "    # Una victoria se indica con un 1, una pérdida se indica con un 0.\n",
    "    if cambio_puerta == puerta_ganadora:\n",
    "        cambiar = 1.\n",
    "        no_cambiar = 0.\n",
    "    else:\n",
    "        cambiar = 0.\n",
    "        no_cambiar = 1.\n",
    "    return cambiar, no_cambiar"
   ]
  },
  {
   "cell_type": "code",
   "execution_count": 152,
   "metadata": {},
   "outputs": [],
   "source": [
    "def simulate_monty_hall(n_simulaciones):\n",
    "    resultado_cambiar = []\n",
    "    resultado_no_cambiar = []\n",
    "    for x in range(n_simulaciones):\n",
    "        cambiar, no_cambiar = monty_hall()\n",
    "        resultado_cambiar.append(cambiar)\n",
    "        resultado_no_cambiar.append(no_cambiar)\n",
    "    return resultado_cambiar, resultado_no_cambiar"
   ]
  },
  {
   "cell_type": "code",
   "execution_count": 154,
   "metadata": {},
   "outputs": [
    {
     "name": "stdout",
     "output_type": "stream",
     "text": [
      "Ganar cambiando de puerta 0.66727\n",
      "Ganar sin cambiar de puerta 0.33273\n"
     ]
    }
   ],
   "source": [
    "pruebas = 1000000\n",
    "resultado_cambiar, resultado_no_cambiar = simulate_monty_hall(pruebas)\n",
    "print(\"Ganar cambiando de puerta\",sum(resultado_cambiar) / len(resultado_cambiar))\n",
    "print(\"Ganar sin cambiar de puerta\",sum(resultado_no_cambiar) / len(resultado_no_cambiar))"
   ]
  },
  {
   "cell_type": "code",
   "execution_count": 155,
   "metadata": {},
   "outputs": [
    {
     "data": {
      "image/png": "[encoded data removed]",
      "text/plain": [
       "<Figure size 432x288 with 1 Axes>"
      ]
     },
     "metadata": {
      "needs_background": "light"
     },
     "output_type": "display_data"
    }
   ],
   "source": [
    "ax = plt.figure()\n",
    "rects1 = plt.bar(0,sum(resultado_cambiar) / len(resultado_cambiar),label=\"cambiar\")\n",
    "rects2 = plt.bar(1,sum(resultado_no_cambiar) / len(resultado_no_cambiar),label=\"no cambiar\")\n",
    "plt.xticks([0,1], [\"Cambiar\",\"No Cambiar\"], rotation='vertical')\n",
    "plt.legend()\n",
    "plt.show()"
   ]
  },
  {
   "cell_type": "markdown",
   "metadata": {},
   "source": [
    "# Probabilidades Continuas"
   ]
  },
  {
   "cell_type": "markdown",
   "metadata": {},
   "source": [
    "## Galton Board\n",
    "<img src=\"./images/galtonboard.gif\" width=\"240\" height=\"240\" align=\"center\"/>\n",
    "\n",
    "\n",
    "Para este experimento, se debe colocar un gran número de bolas en el embudo y dejarlas correr hacia el tablero de clavijas que se encuentra debajo. Cada pelota, a medida que cae, golpeará el clavo debajo del embudo, y rebotará a la izquierda o a la derecha- Así que $p_{l} = 1- p_{r}$. En otras palabras, la probabilidad de que una bola vaya a la izquierda ($p_{l}$) es 1 menos la probabilidad de que una bola vaya a la derecha ($p_{r}$). Si las clavijas están dispuestas simétricamente (como en este caso), $p_{l} = p_{r} = \\frac{1}{2}$\n",
    "\n",
    "Estas pelotas seguirán rebotando contra las clavijas de abajo. En cada clavija, la bola elige al azar una de las dos direcciones -izquierda o derecha- para rodearla. Eventualmente, cada bola caerá en una de las ranuras de la parte inferior. Cada paso es aleatorio, así que si la bola golpea $n$ clavijas en su viaje descendente, la ranura en la que finalmente termina puede ser considerada como la suma de $n$ variables aleatorias.\n",
    "\n",
    "Como el teorema del límite central nos dice que la suma de las variables aleatorias k se acerca a una distribución normal a medida que k aumenta, podemos esperar que la distribución en nuestros slots sea normal. Deberíamos ver una gran campana. Esta distribución se acercará cada vez más a lo normal cuanto mayor sea el número de clavijas que tenga nuestro tablero, y cuanto mayor sea el número de bolas que se dejen caer.\n"
   ]
  },
  {
   "cell_type": "code",
   "execution_count": 145,
   "metadata": {},
   "outputs": [],
   "source": [
    "def galton_experimento(altura, bolas):\n",
    "    containers = [0] * (altura + 1)\n",
    "    index = range(0,altura+1)\n",
    "    for _ in range(bolas):\n",
    "        pos = 0\n",
    "        for i in range(0, altura):\n",
    "            #binomial\n",
    "            turn = np.random.randint(2, size=1)\n",
    "            if turn == 1:\n",
    "                pos += 1\n",
    "        containers[pos] = containers[pos] + 1\n",
    "    return index,containers"
   ]
  },
  {
   "cell_type": "code",
   "execution_count": 146,
   "metadata": {},
   "outputs": [
    {
     "data": {
      "text/plain": [
       "<BarContainer object of 101 artists>"
      ]
     },
     "execution_count": 146,
     "metadata": {},
     "output_type": "execute_result"
    },
    {
     "data": {
      "image/png": "[encoded data removed]",
      "text/plain": [
       "<Figure size 432x288 with 1 Axes>"
      ]
     },
     "metadata": {
      "needs_background": "light"
     },
     "output_type": "display_data"
    }
   ],
   "source": [
    "altura = 100\n",
    "bolas = 10000\n",
    "x,y = galton_experimento(altura =altura,bolas=bolas )\n",
    "plt.bar(x,y,align='center')"
   ]
  },
  {
   "cell_type": "markdown",
   "metadata": {},
   "source": [
    "## Regresion a la media"
   ]
  },
  {
   "cell_type": "code",
   "execution_count": 236,
   "metadata": {},
   "outputs": [],
   "source": [
    "galton = pd.read_csv('Galton.txt', sep='\\t', header=0)"
   ]
  },
  {
   "cell_type": "code",
   "execution_count": 237,
   "metadata": {},
   "outputs": [
    {
     "data": {
      "text/html": [
       "<div>\n",
       "<style scoped>\n",
       "    .dataframe tbody tr th:only-of-type {\n",
       "        vertical-align: middle;\n",
       "    }\n",
       "\n",
       "    .dataframe tbody tr th {\n",
       "        vertical-align: top;\n",
       "    }\n",
       "\n",
       "    .dataframe thead th {\n",
       "        text-align: right;\n",
       "    }\n",
       "</style>\n",
       "<table border=\"1\" class=\"dataframe\">\n",
       "  <thead>\n",
       "    <tr style=\"text-align: right;\">\n",
       "      <th></th>\n",
       "      <th>Family</th>\n",
       "      <th>Father</th>\n",
       "      <th>Mother</th>\n",
       "      <th>Gender</th>\n",
       "      <th>Height</th>\n",
       "      <th>Kids</th>\n",
       "    </tr>\n",
       "  </thead>\n",
       "  <tbody>\n",
       "    <tr>\n",
       "      <th>0</th>\n",
       "      <td>1</td>\n",
       "      <td>78.5</td>\n",
       "      <td>67.0</td>\n",
       "      <td>M</td>\n",
       "      <td>73.2</td>\n",
       "      <td>4</td>\n",
       "    </tr>\n",
       "    <tr>\n",
       "      <th>1</th>\n",
       "      <td>1</td>\n",
       "      <td>78.5</td>\n",
       "      <td>67.0</td>\n",
       "      <td>F</td>\n",
       "      <td>69.2</td>\n",
       "      <td>4</td>\n",
       "    </tr>\n",
       "    <tr>\n",
       "      <th>2</th>\n",
       "      <td>1</td>\n",
       "      <td>78.5</td>\n",
       "      <td>67.0</td>\n",
       "      <td>F</td>\n",
       "      <td>69.0</td>\n",
       "      <td>4</td>\n",
       "    </tr>\n",
       "    <tr>\n",
       "      <th>3</th>\n",
       "      <td>1</td>\n",
       "      <td>78.5</td>\n",
       "      <td>67.0</td>\n",
       "      <td>F</td>\n",
       "      <td>69.0</td>\n",
       "      <td>4</td>\n",
       "    </tr>\n",
       "    <tr>\n",
       "      <th>4</th>\n",
       "      <td>2</td>\n",
       "      <td>75.5</td>\n",
       "      <td>66.5</td>\n",
       "      <td>M</td>\n",
       "      <td>73.5</td>\n",
       "      <td>4</td>\n",
       "    </tr>\n",
       "  </tbody>\n",
       "</table>\n",
       "</div>"
      ],
      "text/plain": [
       "  Family  Father  Mother Gender  Height  Kids\n",
       "0      1    78.5    67.0      M    73.2     4\n",
       "1      1    78.5    67.0      F    69.2     4\n",
       "2      1    78.5    67.0      F    69.0     4\n",
       "3      1    78.5    67.0      F    69.0     4\n",
       "4      2    75.5    66.5      M    73.5     4"
      ]
     },
     "execution_count": 237,
     "metadata": {},
     "output_type": "execute_result"
    }
   ],
   "source": [
    "galton.head()"
   ]
  },
  {
   "cell_type": "markdown",
   "metadata": {},
   "source": [
    "Para poder comprar las alturas de hombres y mujeres, galton multiplico por 1.08 la altura de las mujeres"
   ]
  },
  {
   "cell_type": "code",
   "execution_count": 239,
   "metadata": {},
   "outputs": [
    {
     "data": {
      "text/plain": [
       "<seaborn.axisgrid.JointGrid at 0x7f34b1295780>"
      ]
     },
     "execution_count": 239,
     "metadata": {},
     "output_type": "execute_result"
    },
    {
     "data": {
      "image/png": "[encoded data removed]",
      "text/plain": [
       "<Figure size 432x432 with 3 Axes>"
      ]
     },
     "metadata": {
      "needs_background": "light"
     },
     "output_type": "display_data"
    }
   ],
   "source": [
    "sns.jointplot(x=galton['Father'], y=galton[\"Height\"], kind='scatter')"
   ]
  },
  {
   "cell_type": "code",
   "execution_count": 241,
   "metadata": {},
   "outputs": [],
   "source": [
    "fc = galton['Father'] - np.mean(galton['Father'])\n",
    "mc = galton['Mother'] - np.mean(galton['Mother'])\n",
    "cc = galton['Height'] - np.mean(galton['Height'])"
   ]
  },
  {
   "cell_type": "code",
   "execution_count": 242,
   "metadata": {},
   "outputs": [],
   "source": [
    "x=fc\n",
    "y=cc\n",
    "X = x[:,np.newaxis]\n",
    "\n",
    "x2=mc\n",
    "X2 = x2[:,np.newaxis]"
   ]
  },
  {
   "cell_type": "code",
   "execution_count": 276,
   "metadata": {},
   "outputs": [
    {
     "name": "stdout",
     "output_type": "stream",
     "text": [
      "Media hijo(a): 66.76069042316252\n"
     ]
    }
   ],
   "source": [
    "from sklearn.linear_model import LinearRegression\n",
    "fmodel = LinearRegression(fit_intercept=True)\n",
    "fmodel.fit(X,y)\n",
    "print(\"Media hijo(a):\",np.mean(galton['Height']))"
   ]
  },
  {
   "cell_type": "code",
   "execution_count": 257,
   "metadata": {},
   "outputs": [
    {
     "name": "stdout",
     "output_type": "stream",
     "text": [
      "Predicción de la altura de  75  :  [71.53285078]\n",
      "Predicción de la altura de  60  :  [65.54285078]\n"
     ]
    }
   ],
   "source": [
    "alturas = np.array([75,60])\n",
    "alturas = alturas[:,np.newaxis]\n",
    "ypred = fmodel.predict(alturas[0:1]-np.mean(galton['Father']))\n",
    "print(\"Predicción de la altura de \",alturas[0:1][0][0], \" : \",ypred.round(2)+np.mean(galton['Father']))\n",
    "ypred = fmodel.predict(alturas[1:]-np.mean(galton['Father']))\n",
    "print(\"Predicción de la altura de \",alturas[1:][0][0], \" : \",ypred.round(2)+np.mean(galton['Father']))"
   ]
  },
  {
   "cell_type": "markdown",
   "metadata": {},
   "source": [
    "+ Los hijos de padres muy altos tienden a ser más altos que el promedio, pero más pequeños que sus padres\n",
    "\n",
    "+ Los hijos de padres muy pequeños tienden a ser más pequeños que el promedio pero más altos que sus padres.\n",
    "\n",
    "\n",
    "Esto se conoce como regresión a la media y ocurre cuando se realizan mediciones repetidas.  Significa que, en general, es probable que las observaciones relativamente altas (o bajas) sean seguidas por otras menos extremas más cercanas a la media real del sujeto. "
   ]
  },
  {
   "cell_type": "code",
   "execution_count": 295,
   "metadata": {},
   "outputs": [
    {
     "name": "stdout",
     "output_type": "stream",
     "text": [
      "Media hijo(a): 66.76069042316252\n"
     ]
    }
   ],
   "source": [
    "from sklearn.linear_model import LinearRegression\n",
    "mmodel = LinearRegression(fit_intercept=True)\n",
    "mmodel.fit(X2,y)\n",
    "print(\"Media hijo(a):\",np.mean(galton['Height']))"
   ]
  },
  {
   "cell_type": "code",
   "execution_count": 289,
   "metadata": {},
   "outputs": [
    {
     "name": "stdout",
     "output_type": "stream",
     "text": [
      "Predicción de la altura de  75  :  [71.04285078]\n",
      "Predicción de la altura de  60  :  [66.34285078]\n"
     ]
    }
   ],
   "source": [
    "alturas = np.array([75,60])\n",
    "alturas = alturas[:,np.newaxis]\n",
    "ypred = mmodel.predict(alturas[0:1]-np.mean(galton['Father']))\n",
    "print(\"Predicción de la altura de \",alturas[0:1][0][0], \" : \",ypred.round(2)+np.mean(galton['Father']))\n",
    "ypred = mmodel.predict(alturas[1:]-np.mean(galton['Father']))\n",
    "print(\"Predicción de la altura de \",alturas[1:][0][0], \" : \",ypred.round(2)+np.mean(galton['Father']))"
   ]
  },
  {
   "cell_type": "code",
   "execution_count": 294,
   "metadata": {},
   "outputs": [
    {
     "data": {
      "text/plain": [
       "<matplotlib.legend.Legend at 0x7f34aa540f28>"
      ]
     },
     "execution_count": 294,
     "metadata": {},
     "output_type": "execute_result"
    },
    {
     "data": {
      "image/png": "[encoded data removed]",
      "text/plain": [
       "<Figure size 432x288 with 1 Axes>"
      ]
     },
     "metadata": {
      "needs_background": "light"
     },
     "output_type": "display_data"
    }
   ],
   "source": [
    "xpred = np.linspace(-15, 15).reshape(-1,1)\n",
    "Fpred = fmodel.predict(xpred)\n",
    "Mpred = mmodel.predict(xpred)\n",
    " \n",
    "plt.scatter(fc, cc)\n",
    "plt.scatter(mc, cc)\n",
    " \n",
    "plt.plot(xpred,Fpred,label=\"Padre\")\n",
    "plt.plot(xpred,Mpred,label=\"Madre\")\n",
    "plt.legend()\n",
    " "
   ]
  },
  {
   "cell_type": "code",
   "execution_count": 296,
   "metadata": {},
   "outputs": [
    {
     "data": {
      "text/plain": [
       "pandas.core.series.Series"
      ]
     },
     "execution_count": 296,
     "metadata": {},
     "output_type": "execute_result"
    }
   ],
   "source": [
    "type(fc)"
   ]
  },
  {
   "cell_type": "code",
   "execution_count": 300,
   "metadata": {},
   "outputs": [
    {
     "data": {
      "text/plain": [
       "(array([ 37.,   9.,  57.,  21.,  40.,  16.,   0., 107.,  39., 119.]),\n",
       " array([-4.23285078, -3.81285078, -3.39285078, -2.97285078, -2.55285078,\n",
       "        -2.13285078, -1.71285078, -1.29285078, -0.87285078, -0.45285078,\n",
       "        -0.03285078]),\n",
       " <a list of 10 Patch objects>)"
      ]
     },
     "execution_count": 300,
     "metadata": {},
     "output_type": "execute_result"
    },
    {
     "data": {
      "image/png": "[encoded data removed]",
      "text/plain": [
       "<Figure size 432x288 with 1 Axes>"
      ]
     },
     "metadata": {
      "needs_background": "light"
     },
     "output_type": "display_data"
    }
   ],
   "source": [
    "plt.hist(fc[fc.between(-5,0 )])"
   ]
  }
 ],
 "metadata": {
  "kernelspec": {
   "display_name": "Python 3",
   "language": "python",
   "name": "python3"
  },
  "language_info": {
   "codemirror_mode": {
    "name": "ipython",
    "version": 3
   },
   "file_extension": ".py",
   "mimetype": "text/x-python",
   "name": "python",
   "nbconvert_exporter": "python",
   "pygments_lexer": "ipython3",
   "version": "3.6.7"
  }
 },
 "nbformat": 4,
 "nbformat_minor": 2
}
